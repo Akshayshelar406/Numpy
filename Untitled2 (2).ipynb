{
 "cells": [
  {
   "cell_type": "code",
   "execution_count": 2,
   "metadata": {},
   "outputs": [
    {
     "name": "stdout",
     "output_type": "stream",
     "text": [
      "[60 70 80]\n"
     ]
    }
   ],
   "source": [
    "import numpy as np\n",
    "\n",
    "i = np.array([\n",
    "    [10, 20, 30, 40, 50],  # 0 - 0 1 2 3 4\n",
    "    [60, 70, 80, 90, 100]  # 1 - 0 1 2 3 4\n",
    "])\n",
    "\n",
    "print(i[1, 0:3])"
   ]
  },
  {
   "cell_type": "code",
   "execution_count": 3,
   "metadata": {},
   "outputs": [
    {
     "name": "stdout",
     "output_type": "stream",
     "text": [
      "[20 30 40]\n"
     ]
    }
   ],
   "source": [
    "import numpy as np\n",
    "\n",
    "i = np.array([\n",
    "  [10, 20, 30, 40, 50],  # 0 - 0 1 2 3 4\n",
    "  [60, 70, 80, 90, 100]  # 1 - 0 1 2 3 4\n",
    "])\n",
    "\n",
    "print(i[0, 1:4])"
   ]
  },
  {
   "cell_type": "code",
   "execution_count": 4,
   "metadata": {},
   "outputs": [
    {
     "name": "stdout",
     "output_type": "stream",
     "text": [
      "[33 44]\n"
     ]
    }
   ],
   "source": [
    "import numpy as np\n",
    "\n",
    "i = np.array([\n",
    " [10, 20, 30, 40, 50],   # 0 - 0 1 2 3 4\n",
    " [60, 70, 80, 90, 100],  # 1 - 0 1 2 3 4\n",
    " [11, 22, 33, 44, 55]     # 2 - 0 1 2 3 4\n",
    "])\n",
    "\n",
    "print(i[2, 2:4])"
   ]
  },
  {
   "cell_type": "code",
   "execution_count": 5,
   "metadata": {},
   "outputs": [
    {
     "name": "stdout",
     "output_type": "stream",
     "text": [
      "[20 70]\n"
     ]
    }
   ],
   "source": [
    "i = np.array([\n",
    "  [10, 20, 30, 40, 50],   # 0 - 0 1 2 3 4\n",
    "  [60, 70, 80, 90, 100],  # 1 - 0 1 2 3 4\n",
    "  [11, 22, 33, 44, 55]    # 2 - 0 1 2 3 4\n",
    " ])\n",
    "\n",
    "print(i[0:2, 1])"
   ]
  },
  {
   "cell_type": "code",
   "execution_count": 6,
   "metadata": {},
   "outputs": [
    {
     "name": "stdout",
     "output_type": "stream",
     "text": [
      "[30 80 33]\n"
     ]
    }
   ],
   "source": [
    "i = np.array([\n",
    " [10, 20, 30, 40, 50],  # 0 - 0 1 2 3 4\n",
    " [60, 70, 80, 90, 100], # 1 - 0 1 2 3 4\n",
    " [11, 22, 33, 44, 55],  # 2 - 0 1 2 3 4\n",
    " [1, 2, 3, 4, 5]        # 2 - 0 1 2 3 4\n",
    "])\n",
    "\n",
    "print(i[0:3, 2])"
   ]
  },
  {
   "cell_type": "code",
   "execution_count": 8,
   "metadata": {},
   "outputs": [
    {
     "name": "stdout",
     "output_type": "stream",
     "text": [
      "[[10 20]\n",
      " [60 70]\n",
      " [11 22]\n",
      " [ 1  2]]\n"
     ]
    }
   ],
   "source": [
    "import numpy as np\n",
    "\n",
    "i = np.array([\n",
    " [10, 20, 30, 40, 50],  # 0 - 0 1 2 3 4\n",
    " [60, 70, 80, 90, 100], # 1 - 0 1 2 3 4\n",
    " [11, 22, 33, 44, 55],  # 2 - 0 1 2 3 4\n",
    " [1, 2, 3, 4, 5]        # 2 - 0 1 2 3 4\n",
    " ])\n",
    "\n",
    "print(i[0:4, 0:2])"
   ]
  },
  {
   "cell_type": "code",
   "execution_count": 9,
   "metadata": {},
   "outputs": [
    {
     "name": "stdout",
     "output_type": "stream",
     "text": [
      "[[30 40]\n",
      " [80 90]]\n"
     ]
    }
   ],
   "source": [
    "import numpy as np\n",
    "\n",
    "i = np.array([\n",
    " [10, 20, 30, 40, 50],  # 0 - 0 1 2 3 4\n",
    " [60, 70, 80, 90, 100], # 1 - 0 1 2 3 4\n",
    " [11, 22, 33, 44, 55],  # 2 - 0 1 2 3 4\n",
    " [1, 2, 3, 4, 5]        # 2 - 0 1 2 3 4\n",
    "])\n",
    "\n",
    "print(i[0:2, 2:4])"
   ]
  },
  {
   "cell_type": "code",
   "execution_count": 10,
   "metadata": {},
   "outputs": [
    {
     "name": "stdout",
     "output_type": "stream",
     "text": [
      "[[30 40]\n",
      " [80 90]\n",
      " [33 44]]\n"
     ]
    }
   ],
   "source": [
    "import numpy as np\n",
    "\n",
    "i = np.array([\n",
    " [10, 20, 30, 40, 50],  # 0 - 0 1 2 3 4\n",
    " [60, 70, 80, 90, 100], # 1 - 0 1 2 3 4\n",
    " [11, 22, 33, 44, 55],  # 2 - 0 1 2 3 4\n",
    " [1, 2, 3, 4, 5]        # 2 - 0 1 2 3 4\n",
    " ])\n",
    "\n",
    "print(i[0:3, -3:-1])"
   ]
  },
  {
   "cell_type": "code",
   "execution_count": 11,
   "metadata": {},
   "outputs": [
    {
     "name": "stdout",
     "output_type": "stream",
     "text": [
      "int32\n"
     ]
    }
   ],
   "source": [
    "import numpy as np\n",
    "\n",
    "i = np.array([10, 20, 30, 40, 50])\n",
    "\n",
    "print(i.dtype)"
   ]
  },
  {
   "cell_type": "code",
   "execution_count": 12,
   "metadata": {},
   "outputs": [
    {
     "name": "stdout",
     "output_type": "stream",
     "text": [
      "[10 20 30]\n",
      "int32\n",
      "[10.1 20.2 30.3]\n"
     ]
    }
   ],
   "source": [
    "import numpy as np\n",
    "\n",
    "i = np.array([10.10, 20.20, 30.30])\n",
    "\n",
    "i1 = i.astype('i')\n",
    "\n",
    "print(i1)\n",
    "\n",
    "print(i1.dtype)\n",
    "\n",
    "print(i)"
   ]
  },
  {
   "cell_type": "code",
   "execution_count": 13,
   "metadata": {},
   "outputs": [
    {
     "name": "stdout",
     "output_type": "stream",
     "text": [
      "[10. 20. 30.]\n",
      "float32\n"
     ]
    }
   ],
   "source": [
    "import numpy as np\n",
    "\n",
    "i = np.array([10, 20, 30])\n",
    "\n",
    "i1 = i.astype('f')\n",
    "\n",
    "print(i1)\n",
    "\n",
    "print(i1.dtype)"
   ]
  },
  {
   "cell_type": "code",
   "execution_count": 14,
   "metadata": {},
   "outputs": [
    {
     "name": "stdout",
     "output_type": "stream",
     "text": [
      "[10 20 30]\n",
      "int32\n"
     ]
    }
   ],
   "source": [
    "import numpy as np\n",
    "\n",
    "i = np.array([10.10, 20.20, 30.30])\n",
    "\n",
    "i1 = i.astype(int)\n",
    "\n",
    "print(i1)\n",
    "\n",
    "print(i1.dtype)"
   ]
  },
  {
   "cell_type": "code",
   "execution_count": 15,
   "metadata": {},
   "outputs": [
    {
     "name": "stdout",
     "output_type": "stream",
     "text": [
      "[ True False  True  True  True False False]\n",
      "bool\n"
     ]
    }
   ],
   "source": [
    "import numpy as np\n",
    "\n",
    "i = np.array([10.10, 0, 30, 5, 23.25, 0, 0])\n",
    "\n",
    "i1 = i.astype(bool)\n",
    "\n",
    "print(i1)\n",
    "\n",
    "print(i1.dtype)"
   ]
  },
  {
   "cell_type": "code",
   "execution_count": null,
   "metadata": {},
   "outputs": [],
   "source": []
  }
 ],
 "metadata": {
  "kernelspec": {
   "display_name": "Python 3",
   "language": "python",
   "name": "python3"
  },
  "language_info": {
   "codemirror_mode": {
    "name": "ipython",
    "version": 3
   },
   "file_extension": ".py",
   "mimetype": "text/x-python",
   "name": "python",
   "nbconvert_exporter": "python",
   "pygments_lexer": "ipython3",
   "version": "3.8.5"
  }
 },
 "nbformat": 4,
 "nbformat_minor": 4
}
